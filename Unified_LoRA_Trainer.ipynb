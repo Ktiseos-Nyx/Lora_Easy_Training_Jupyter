{
 "cells": [
  {
   "cell_type": "markdown",
   "metadata": {},
   "source": "# 🎯 **LoRA Easy Training Jupyter**\n\nUniversal LoRA training with automatic model detection.\n\n## 📋 **Workflow**\n1. **Cell 1**: Environment validation\n2. **Cell 2**: Training configuration\n3. **Cell 3**: Training execution & monitoring\n\n## 📚 **Documentation**\n- [Installation Guide](docs/guides/installation.md) - System requirements and setup\n- [Parameters Guide](docs/guides/parameters.md) - Training parameter explanations\n- [Training Settings](docs/training-guides/training-settings.md) - Starting point recommendations\n\n---"
  },
  {
   "cell_type": "markdown",
   "metadata": {},
   "source": "---\n## 🔍 Environment Validation\n\nValidates installation and system compatibility."
  },
  {
   "cell_type": "code",
   "execution_count": null,
   "metadata": {},
   "outputs": [],
   "source": "# **CELL 1:** 🔍 Environment Validation & Quick Setup\n# Auto-validates that installer.py did its job correctly\n\nfrom shared_managers import create_widget\n\n# Create and display environment validation widget\nsetup_widget = create_widget('setup_simple')\nsetup_widget.display()"
  },
  {
   "cell_type": "markdown",
   "metadata": {},
   "source": [
    "---\n",
    "## 🎨 Training Configuration\n",
    "\n",
    "Configure your training settings"
   ]
  },
  {
   "cell_type": "code",
   "execution_count": 2,
   "metadata": {},
   "outputs": [
    {
     "name": "stdout",
     "output_type": "stream",
     "text": [
      "⚠️ Warning: Could not import Kohya/Derrian libraries: No module named 'voluptuous'\n",
      "Falling back to basic functionality\n",
      "🎯 Universal Training Configuration - Ready!\n",
      "\n",
      "WARNING:core.kohya_training_manager:Kohya libraries not available, using fallback mode\n",
      "📁 No models found in pretrained_model/ directory\n",
      "💡 Place your .safetensors/.ckpt files in pretrained_model/ folder or use custom path\n"
     ]
    },
    {
     "data": {
      "application/vnd.jupyter.widget-view+json": {
       "model_id": "db3c693a37184966af48815f6ba619aa",
       "version_major": 2,
       "version_minor": 0
      },
      "text/plain": [
       "VBox(children=(HTML(value='<h2>⭐ 3. Training Configuration</h2>'), Accordion(children=(VBox(children=(HTML(val…"
      ]
     },
     "metadata": {},
     "output_type": "display_data"
    }
   ],
   "source": [
    "# **CELL 2:** Training Configuration Widget\n",
    "\n",
    "\n",
    "from core.refactored_training_manager import RefactoredTrainingManager\n",
    "from widgets.training_widget import TrainingWidget\n",
    "\n",
    "print(\"🎯 Universal Training Configuration - Ready!\")\n",
    "print()\n",
    "\n",
    "# Create the unified training manager (uses Kohya backend with auto-detection)\n",
    "training_manager = RefactoredTrainingManager()\n",
    "training_widget = TrainingWidget(training_manager)\n",
    "\n",
    "# Display the universal configuration widget\n",
    "training_widget.display()\n"
   ]
  },
  {
   "cell_type": "markdown",
   "metadata": {},
   "source": "---\n## 🚀 Training Execution & Monitoring\n\n**Ready to train?** Run this after configuring settings in Cell 2.\n\nAutomatically selects the optimal training script and provides real-time monitoring."
  },
  {
   "cell_type": "code",
   "execution_count": null,
   "metadata": {},
   "outputs": [],
   "source": "# **CELL 3:** Training Execution & Monitoring\n# Run this AFTER configuring your settings in Cell 2\n# The system automatically uses the optimal training script for your model type\n\n# Clear Cache for Devs - Forces reload of custom optimizers\nimport importlib\nimport sys\nif 'LoraEasyCustomOptimizer' in sys.modules:\n    del sys.modules['LoraEasyCustomOptimizer']\n\nfrom shared_managers import get_training_manager\nfrom widgets.training_monitor_widget import TrainingMonitorWidget\n\nprint(\"🚀 Kohya-ss System - Starting...\")\nprint(\"🧠 Model Architecture will be auto-detected from your model file\")\nprint(\"📊 Real-time monitoring enabled\")\nprint()\n\n# Use the shared training manager instance (same as Cell 2)\ntraining_monitor = TrainingMonitorWidget(training_manager_instance=get_training_manager())\n\n# Display the monitoring widget\ntraining_monitor.display()"
  },
  {
   "cell_type": "markdown",
   "metadata": {},
   "source": "---\n\n# 🎉 **Training Complete!**\n\nYour LoRA has been saved to the output directory.\n\n## 🛠️ **Next Steps**\n- **`Utilities_Notebook.ipynb`** - LoRA management and optimization\n- **`Dataset_Preparation.ipynb`** - Prepare additional datasets\n- **[Testing LoRAs Guide](docs/guides/testing-loras.md)** - Set up inference testing\n\n---"
  }
 ],
 "metadata": {
  "kernelspec": {
   "display_name": "Python 3 (ipykernel)",
   "language": "python",
   "name": "python3"
  },
  "language_info": {
   "codemirror_mode": {
    "name": "ipython",
    "version": 3
   },
   "file_extension": ".py",
   "mimetype": "text/x-python",
   "name": "python",
   "nbconvert_exporter": "python",
   "pygments_lexer": "ipython3",
   "version": "3.12.9"
  }
 },
 "nbformat": 4,
 "nbformat_minor": 4
}