{
 "cells": [
  {
   "cell_type": "markdown",
   "metadata": {},
   "source": "# <img src=\"assets/doro_syuen.png\" width=\"32\" height=\"32\"> **LoRA Training Utilities**\n\nAdditional tools for training workflow management.\n\n## 🎯 **Available Tools**\n- **Step Calculator**: Optimize training parameters\n- **File Management**: Upload and organize datasets  \n- **LoRA Utilities**: Resize, upload, and manage trained LoRAs\n\n## 📚 **Documentation**\n- [Parameters Guide](docs/guides/parameters.md) - Understanding training settings\n- [Training Settings](docs/training-guides/training-settings.md) - Recommended configurations"
  },
  {
   "cell_type": "markdown",
   "metadata": {},
   "source": "# <img src=\"assets/doro_diamond.png\" width=\"32\" height=\"32\"> LoRA Step Calculator\n\n**Purpose:** Calculate optimal training steps and time estimates.\n\n**Formula:** Steps = (Images × Repeats × Epochs) ÷ Batch Size\n\n**Variables:** Optimal step counts depend on optimizer choice, learning rate, content complexity, and dataset quality.\n\nSee [Training Settings Guide](docs/training-guides/training-settings.md) for recommended configurations."
  },
  {
   "cell_type": "code",
   "execution_count": null,
   "metadata": {},
   "outputs": [],
   "source": [
    "# LoRA Step Calculator\n",
    "# Calculate optimal training steps, learning rates, and batch sizes\n",
    "# Works for all model architectures\n",
    "\n",
    "from shared_managers import create_widget\n",
    "\n",
    "print(\"📊 LORA STEP CALCULATOR\")\n",
    "print(\"🧮 Optimize your training parameters\")\n",
    "print()\n",
    "\n",
    "calculator_widget = create_widget('calculator')\n",
    "calculator_widget.display()"
   ]
  },
  {
   "cell_type": "markdown",
   "metadata": {},
   "source": "---\n## <img src=\"assets/doro_cinderella.png\" width=\"32\" height=\"32\"> Post-Training LoRA Utilities\n\n**Purpose:** Resize, upload, and manage your trained LoRAs."
  },
  {
   "cell_type": "code",
   "execution_count": null,
   "metadata": {},
   "outputs": [],
   "source": [
    "# Post-Training Utilities\n",
    "# Resize, upload, and manage your trained LoRAs\n",
    "# Works with all model types automatically\n",
    "\n",
    "from shared_managers import get_utilities_manager\n",
    "from widgets.utilities_widget import UtilitiesWidget\n",
    "\n",
    "print(\"🛠️ POST-TRAINING UTILITIES\")\n",
    "print(\"📦 LoRA management and optimization tools\")\n",
    "print(\"☁️ HuggingFace Hub integration\")\n",
    "print()\n",
    "\n",
    "# Create utilities widget\n",
    "utilities_widget = UtilitiesWidget(get_utilities_manager())\n",
    "utilities_widget.display()\n",
    "\n",
    "print()\n",
    "print(\"💡 Available utilities:\")\n",
    "print(\"   • LoRA resizing (16, 32, 64, 128 dimensions)\")\n",
    "print(\"   • HuggingFace Hub uploads\")\n",
    "print(\"   • Model organization tools\")\n",
    "print(\"   • Output cleanup utilities\")"
   ]
  }
 ],
 "metadata": {
  "kernelspec": {
   "display_name": "Python 3 (ipykernel)",
   "language": "python",
   "name": "python3"
  },
  "language_info": {
   "codemirror_mode": {
    "name": "ipython",
    "version": 3
   },
   "file_extension": ".py",
   "mimetype": "text/x-python",
   "name": "python",
   "nbconvert_exporter": "python",
   "pygments_lexer": "ipython3",
   "version": "3.12.9"
  }
 },
 "nbformat": 4,
 "nbformat_minor": 4
}