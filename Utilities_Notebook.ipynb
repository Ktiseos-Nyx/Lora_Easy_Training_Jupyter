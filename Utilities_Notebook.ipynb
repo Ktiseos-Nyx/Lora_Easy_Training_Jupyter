{
 "cells": [
  {
   "cell_type": "markdown",
   "metadata": {},
   "source": [
    "# <img src=\"assets/doro_syuen.png\" width=\"32\" height=\"32\"> **LoRA Training Utilities Notebook**\n",
    "\n",
    "**Separate utilities for managing your LoRA training workflow!**\n",
    "\n",
    "## 🎯 **What This Notebook Contains**\n",
    "- **File Management**: Upload datasets, organize files\n",
    "- **Step Calculator**: Optimize training parameters\n",
    "- **LoRA Utilities**: Resize, upload, manage trained LoRAs\n",
    "\n",
    "## 💡 **When to Use This**\n",
    "- Setting up datasets before training\n",
    "- Optimizing training parameters\n",
    "- Managing outputs after training\n",
    "- Converting file formats\n"
   ]
  },
  {
   "cell_type": "markdown",
   "metadata": {},
   "source": [
    "# <img src=\"assets/doro_diamond.png\" width=\"32\" height=\"32\"> LoRA Step Calculator\n",
    "\n",
    "**What this does:** Helps you calculate training steps based on your dataset and parameters.\n",
    "\n",
    "**Why use this:** \n",
    "- **Plan your training time**: See exactly how long training will take\n",
    "- **Understand the math**: Steps = (Images × Repeats × Epochs) ÷ Batch Size\n",
    "- **Optimize efficiency**: Balance training time vs quality\n",
    "- **Experiment safely**: Test different configurations\n",
    "\n",
    "**How it works:**\n",
    "- Enter your dataset size (number of images)\n",
    "- Set your training parameters (batch size, repeats, epochs)\n",
    "- Get instant feedback on total steps and time estimates\n",
    "\n",
    "**Note:** Optimal step counts vary greatly depending on:\n",
    "- **Optimizer choice**: CAME, Prodigy, AdamW all behave differently\n",
    "- **Learning rate**: Higher rates train faster\n",
    "- **Content complexity**: Characters vs styles vs concepts\n",
    "- **Dataset quality**: Better data trains faster"
   ]
  },
  {
   "cell_type": "code",
   "execution_count": null,
   "metadata": {},
   "outputs": [],
   "source": [
    "# LoRA Step Calculator\n",
    "# Calculate optimal training steps, learning rates, and batch sizes\n",
    "# Works for all model architectures\n",
    "\n",
    "from shared_managers import create_widget\n",
    "\n",
    "print(\"📊 LORA STEP CALCULATOR\")\n",
    "print(\"🧮 Optimize your training parameters\")\n",
    "print()\n",
    "\n",
    "calculator_widget = create_widget('calculator')\n",
    "calculator_widget.display()"
   ]
  },
  {
   "cell_type": "markdown",
   "metadata": {},
   "source": [
    "---\n",
    "## **<img src=\"assets/doro_anachiro.png\" width=\"32\" height=\"32\"> File Management**\n",
    "\n",
    "**Upload datasets, organize files, manage training data.**"
   ]
  },
  {
   "cell_type": "code",
   "execution_count": null,
   "metadata": {},
   "outputs": [],
   "source": [
    "# File Management Utilities\n",
    "# Upload datasets, manage training files, organize outputs\n",
    "\n",
    "from shared_managers import create_widget\n",
    "\n",
    "print(\"🗂️ FILE MANAGEMENT SYSTEM\")\n",
    "print(\"📁 Upload and organize training data\")\n",
    "print()\n",
    "\n",
    "file_manager_widget = create_widget('file_manager')\n",
    "file_manager_widget.display()"
   ]
  },
  {
   "cell_type": "markdown",
   "metadata": {},
   "source": [
    "---\n",
    "## **<img src=\"assets/doro_cinderella.png\" width=\"32\" height=\"32\"> Post-Training LoRA Utilities**\n",
    "\n",
    "**Resize, upload, and manage your trained LoRAs.**"
   ]
  },
  {
   "cell_type": "code",
   "execution_count": null,
   "metadata": {},
   "outputs": [],
   "source": [
    "# Post-Training Utilities\n",
    "# Resize, upload, and manage your trained LoRAs\n",
    "# Works with all model types automatically\n",
    "\n",
    "from shared_managers import get_utilities_manager\n",
    "from widgets.utilities_widget import UtilitiesWidget\n",
    "\n",
    "print(\"🛠️ POST-TRAINING UTILITIES\")\n",
    "print(\"📦 LoRA management and optimization tools\")\n",
    "print(\"☁️ HuggingFace Hub integration\")\n",
    "print()\n",
    "\n",
    "# Create utilities widget\n",
    "utilities_widget = UtilitiesWidget(get_utilities_manager())\n",
    "utilities_widget.display()\n",
    "\n",
    "print()\n",
    "print(\"💡 Available utilities:\")\n",
    "print(\"   • LoRA resizing (16, 32, 64, 128 dimensions)\")\n",
    "print(\"   • HuggingFace Hub uploads\")\n",
    "print(\"   • Model organization tools\")\n",
    "print(\"   • Output cleanup utilities\")"
   ]
  }
 ],
 "metadata": {
  "kernelspec": {
   "display_name": "Python 3 (ipykernel)",
   "language": "python",
   "name": "python3"
  },
  "language_info": {
   "codemirror_mode": {
    "name": "ipython",
    "version": 3
   },
   "file_extension": ".py",
   "mimetype": "text/x-python",
   "name": "python",
   "nbconvert_exporter": "python",
   "pygments_lexer": "ipython3",
   "version": "3.12.9"
  }
 },
 "nbformat": 4,
 "nbformat_minor": 4
}
