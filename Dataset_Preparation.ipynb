{
 "cells": [
  {
   "cell_type": "markdown",
   "metadata": {},
   "source": "# <img src=\"assets/doro.png\" width=\"32\" height=\"32\"> Dataset Preparation\n\nPrepare training datasets with automated tagging and curation tools.\n\n## 📋 **Workflow**\n1. **Upload dataset** (ZIP or folder)\n2. **Visual curation** with FiftyOne\n3. **Auto-tagging** (WD14/BLIP)\n4. **Caption editing** and trigger words\n5. **Move to training** in `Unified_LoRA_Trainer.ipynb`\n\n## 📚 **Documentation**\n- [Dataset Preparation Guide](docs/dataset-guides/dataset_preparation.md) - Complete workflow\n- [Creating Characters Guide](docs/dataset-guides/creating-characters.md) - Character LoRA methods\n\n---"
  },
  {
   "cell_type": "markdown",
   "metadata": {},
   "source": "## <img src=\"assets/OTNDORODUSKFIXED.png\" width=\"32\" height=\"32\"> 1. Setup Validation\n\n**Purpose:** Environment setup if not already completed.\n\n**When to run:** First-time setup or if getting \"module not found\" errors.\n\n**Skip if:** Already ran setup in `Unified_LoRA_Trainer.ipynb`."
  },
  {
   "cell_type": "code",
   "execution_count": null,
   "metadata": {},
   "outputs": [],
   "source": [
    "# **CELL 1A:** Environment Validation\n",
    "\n",
    "from shared_managers import create_widget\n",
    "\n",
    "# Initialize and display the simplified setup widget (validation only)\n",
    "setup_widget = create_widget('setup_simple')\n",
    "setup_widget.display()"
   ]
  },
  {
   "cell_type": "markdown",
   "metadata": {},
   "source": "## <img src=\"assets/doro_fubuki.png\" width=\"32\" height=\"32\"> 2. Dataset Management\n\n**Purpose:** Auto-tag and prepare your curated images for training.\n\n**Features:**\n- 📁 **Dataset input** and directory selection\n- 🏷️ **Auto-tagging** with WD14 v3 or BLIP\n- ✏️ **Caption editing** and bulk operations\n- 🎯 **Trigger word** injection\n- 🚫 **Tag filtering** and blacklists\n\nSee [Dataset Preparation Guide](docs/dataset-guides/dataset_preparation.md) for detailed workflow."
  },
  {
   "cell_type": "code",
   "execution_count": 2,
   "metadata": {},
   "outputs": [
    {
     "data": {
      "application/vnd.jupyter.widget-view+json": {
       "model_id": "8d5edb55d83c45a29c43b2bc80d02324",
       "version_major": 2,
       "version_minor": 0
      },
      "text/plain": [
       "VBox(children=(HTML(value='<h2>📊 2. Dataset Manager</h2>'), Accordion(children=(VBox(children=(HTML(value=\"<h3…"
      ]
     },
     "metadata": {},
     "output_type": "display_data"
    }
   ],
   "source": [
    "# **CELL 3:** Dataset Tagging Widget (After Curation)\n",
    "\n",
    "from shared_managers import create_widget\n",
    "\n",
    "# Initialize and display the dataset widget for tagging curated images\n",
    "dataset_widget = create_widget('dataset')\n",
    "dataset_widget.display()"
   ]
  },
  {
   "cell_type": "markdown",
   "metadata": {},
   "source": "---\n\n## <img src=\"assets/OTNANGELDOROFIX.png\" width=\"32\" height=\"32\"> Next Steps\n\n1. **Note your dataset path** for training setup\n2. **Remember your trigger word** for generation\n3. **Open** `Unified_LoRA_Trainer.ipynb` for training\n\n---\n\n## <img src=\"assets/OTNEARTHFIXDORO.png\" width=\"32\" height=\"32\"> Troubleshooting\n\n**Common issues:** See [Troubleshooting Guide](docs/guides/troubleshooting.md#dataset-issues) for solutions.\n\n**Quick fixes:**\n- **No images found**: Check ZIP structure and file formats\n- **Tagging failed**: Verify internet connection and disk space\n- **Missing trigger words**: Use bulk edit or check injection settings"
  }
 ],
 "metadata": {
  "kernelspec": {
   "display_name": "Python 3 (ipykernel)",
   "language": "python",
   "name": "python3"
  },
  "language_info": {
   "codemirror_mode": {
    "name": "ipython",
    "version": 3
   },
   "file_extension": ".py",
   "mimetype": "text/x-python",
   "name": "python",
   "nbconvert_exporter": "python",
   "pygments_lexer": "ipython3",
   "version": "3.12.9"
  }
 },
 "nbformat": 4,
 "nbformat_minor": 4
}