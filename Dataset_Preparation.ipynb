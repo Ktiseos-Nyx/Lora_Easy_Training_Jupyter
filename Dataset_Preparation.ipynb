{
 "cells": [
  {
   "cell_type": "markdown",
   "metadata": {},
   "source": [
    "# <img src=\"assets/doro.png\" width=\"32\" height=\"32\"> Dataset Maker - LoRA Training Assistant  \n",
    "\n",
    "This notebook contains the **Dataset Widget** for preparing your training datasets.\n",
    "\n",
    "## What this notebook handles:\n",
    "- **Dataset upload** and extraction from ZIP files\n",
    "- **🆕 Image curation** with FiftyOne (duplicate detection, visual inspection)\n",
    "- **Image tagging** with WD14 v3 taggers or BLIP captioning\n",
    "- **Caption management** and editing\n",
    "- **Trigger word** management and injection\n",
    "- **Tag filtering** and blacklist management\n",
    "\n",
    "## Workflow:\n",
    "1. **Upload your dataset** (ZIP file or folder)\n",
    "2. **🆕 Visual curation** with FiftyOne (remove duplicates, inspect quality)\n",
    "3. **Configure tagging** settings (WD14 for anime, BLIP for photos)\n",
    "4. **Review and edit** generated captions\n",
    "5. **Add trigger words** for your LoRA\n",
    "6. **Move to training** in `Lora_Trainer_Widget.ipynb`\n",
    "\n",
    "---"
   ]
  },
  {
   "cell_type": "markdown",
   "metadata": {},
   "source": [
    "## <img src=\"assets/OTNDORODUSKFIXED.png\" width=\"32\" height=\"32\"> 1. Setup Validation\n",
    "\n",
    "**What this cell does:** Sets up the training environment if you haven't done it yet.\n",
    "\n",
    "**When to run:** \n",
    "- If this is your first time using the system\n",
    "- If you're getting \"module not found\" errors\n",
    "- If you skipped setup in the main training notebook\n",
    "\n",
    "**What happens:**\n",
    "- Downloads and installs the training backend (~10-15GB)\n",
    "- Sets up directory structure \n",
    "- Validates your system (GPU, VRAM, storage)\n",
    "\n",
    "**Skip this if:** You already ran setup in `Lora_Trainer_Widget.ipynb`"
   ]
  },
  {
   "cell_type": "code",
   "execution_count": null,
   "metadata": {},
   "outputs": [],
   "source": [
    "# **CELL 1A:** Environment Validation\n",
    "\n",
    "from shared_managers import create_widget\n",
    "\n",
    "# Initialize and display the simplified setup widget (validation only)\n",
    "setup_widget = create_widget('setup_simple')\n",
    "setup_widget.display()"
   ]
  },
  {
   "cell_type": "markdown",
   "metadata": {},
   "source": [
    "## <img src=\"assets/doro_fubuki.png\" width=\"32\" height=\"32\"> 2. Dataset Management Widget\n",
    "\n",
    "**What this cell does:** Traditional dataset tagging interface for your CURATED images.\n",
    "\n",
    "**This widget handles:**\n",
    "- 📁 **Dataset Input**: Point to your curated dataset directory\n",
    "- 🏷️ **Auto-Tagging**: WD14 v3 (anime/art) or BLIP (photos)  \n",
    "- ✏️ **Caption Editing**: Bulk edit, find/replace, manual tweaks\n",
    "- 🎯 **Trigger Words**: Add your unique trigger word to all captions\n",
    "- 🚫 **Tag Filtering**: Remove unwanted tags with blacklists\n",
    "- 📊 **Quality Tools**: Tag analysis and final review\n",
    "\n",
    "**How to use:**\n",
    "1. **Select** your curated dataset directory (from step 2)\n",
    "2. **Configure** tagging settings for your content type\n",
    "3. **Review** and edit the generated captions\n",
    "4. **Add** your trigger word to all images\n",
    "5. **Filter** out any unwanted tags"
   ]
  },
  {
   "cell_type": "code",
   "execution_count": 2,
   "metadata": {},
   "outputs": [
    {
     "data": {
      "application/vnd.jupyter.widget-view+json": {
       "model_id": "8d5edb55d83c45a29c43b2bc80d02324",
       "version_major": 2,
       "version_minor": 0
      },
      "text/plain": [
       "VBox(children=(HTML(value='<h2>📊 2. Dataset Manager</h2>'), Accordion(children=(VBox(children=(HTML(value=\"<h3…"
      ]
     },
     "metadata": {},
     "output_type": "display_data"
    }
   ],
   "source": [
    "# **CELL 3:** Dataset Tagging Widget (After Curation)\n",
    "\n",
    "from shared_managers import create_widget\n",
    "\n",
    "# Initialize and display the dataset widget for tagging curated images\n",
    "dataset_widget = create_widget('dataset')\n",
    "dataset_widget.display()"
   ]
  },
  {
   "cell_type": "markdown",
   "metadata": {},
   "source": [
    "---\n",
    "\n",
    "##  <img src=\"assets/OTNANGELDOROFIX.png\" width=\"32\" height=\"32\"> Next Steps\n",
    "\n",
    "Once your dataset is prepared:\n",
    "\n",
    "1. **Note your dataset path** - you'll need it for training\n",
    "2. **Remember your trigger word** - important for generation\n",
    "3. **Open** `Lora_Trainer_Widget.ipynb` for training setup\n",
    "4. **Run the Setup widget** first in the training notebook\n",
    "\n",
    "---\n",
    "\n",
    "## <img src=\"assets/OTNEARTHFIXDORO.png\" width=\"32\" height=\"32\"> Troubleshooting\n",
    "\n",
    "### Common Issues\n",
    "\n",
    "**\"No images found\":**\n",
    "- Check ZIP file structure (images should be in root or single folder)\n",
    "- Verify image formats (jpg, png, webp supported)\n",
    "- Ensure files aren't corrupted\n",
    "\n",
    "**\"Tagging failed\":**\n",
    "- Check internet connection for model downloads\n",
    "- Verify sufficient disk space (2-3GB for tagger models)\n",
    "- Try different tagger model\n",
    "\n",
    "**\"Captions too long/short\":**\n",
    "- Adjust tag threshold settings\n",
    "- Use tag filtering to remove excess tags\n",
    "- Consider manual editing for important images\n",
    "\n",
    "**\"Missing trigger words\":**\n",
    "- Use bulk edit to add trigger words\n",
    "- Check trigger word injection settings\n",
    "- Verify trigger word isn't being filtered out\n",
    "\n",
    "\n"
   ]
  }
 ],
 "metadata": {
  "kernelspec": {
   "display_name": "Python 3 (ipykernel)",
   "language": "python",
   "name": "python3"
  },
  "language_info": {
   "codemirror_mode": {
    "name": "ipython",
    "version": 3
   },
   "file_extension": ".py",
   "mimetype": "text/x-python",
   "name": "python",
   "nbconvert_exporter": "python",
   "pygments_lexer": "ipython3",
   "version": "3.12.9"
  }
 },
 "nbformat": 4,
 "nbformat_minor": 4
}
