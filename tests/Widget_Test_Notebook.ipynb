{
 "cells": [
  {
   "cell_type": "markdown",
   "metadata": {},
   "source": [
    "# Widget Test Notebook\n",
    "\n",
    "This notebook allows testing widget components without requiring the full LoRA training environment.\n",
    "\n",
    "## Purpose\n",
    "- Test widget imports and basic functionality\n",
    "- Validate upload mechanisms \n",
    "- Debug widget issues locally\n",
    "- Test UI components without training dependencies"
   ]
  },
  {
   "cell_type": "markdown",
   "metadata": {},
   "source": [
    "## 1. Basic Widget Imports Test"
   ]
  },
  {
   "cell_type": "code",
   "execution_count": 1,
   "metadata": {},
   "outputs": [
    {
     "name": "stdout",
     "output_type": "stream",
     "text": [
      "2025-09-22 16:21:14 | INFO     | core.logging_config  | 📝 Logging initialized - log file: /Users/duskfall/Downloads/Lora_Easy_Training_Jupyter/logs/lora_training_20250922_162114.log\n",
      "2025-09-22 16:21:14 | INFO     | core.logging_config  | 🔍 To view logs: tail -f /Users/duskfall/Downloads/Lora_Easy_Training_Jupyter/logs/lora_training_20250922_162114.log\n",
      "✅ All widget imports successful\n"
     ]
    }
   ],
   "source": [
    "# Test basic widget imports\n",
    "try:\n",
    "    from widgets.utilities_widget import UtilitiesWidget\n",
    "    from widgets.dataset_widget import DatasetWidget\n",
    "    from core.file_upload_manager import FileUploadManager\n",
    "    print('✅ All widget imports successful')\n",
    "except Exception as e:\n",
    "    print(f'❌ Import error: {e}')\n",
    "    import traceback\n",
    "    traceback.print_exc()"
   ]
  },
  {
   "cell_type": "markdown",
   "metadata": {},
   "source": [
    "## 2. Test Utilities Widget"
   ]
  },
  {
   "cell_type": "code",
   "execution_count": 2,
   "metadata": {},
   "outputs": [
    {
     "name": "stdout",
     "output_type": "stream",
     "text": [
      "2025-09-22 16:21:16 | INFO     | utilities_widget     | Refreshing file list: directory='/Users/duskfall/Downloads/Lora_Easy_Training_Jupyter', extension='safetensors', sort='name'\n",
      "2025-09-22 16:21:16 | INFO     | utilities_widget     | File scan complete: found 0 files\n",
      "✅ UtilitiesWidget created successfully\n"
     ]
    },
    {
     "data": {
      "application/vnd.jupyter.widget-view+json": {
       "model_id": "5c4493f4c5574ca3bc5f18a6e7d36d48",
       "version_major": 2,
       "version_minor": 0
      },
      "text/plain": [
       "VBox(children=(HTML(value='<h2>🔧 4. Utilities</h2>'), Accordion(children=(VBox(children=(HTML(value='<h4>🚀 Enh…"
      ]
     },
     "metadata": {},
     "output_type": "display_data"
    }
   ],
   "source": [
    "# Test utilities widget creation and display\n",
    "try:\n",
    "    utilities = UtilitiesWidget()\n",
    "    print('✅ UtilitiesWidget created successfully')\n",
    "    \n",
    "    # Display the widget\n",
    "    utilities.display()\n",
    "    \n",
    "except Exception as e:\n",
    "    print(f'❌ UtilitiesWidget error: {e}')\n",
    "    import traceback\n",
    "    traceback.print_exc()"
   ]
  },
  {
   "cell_type": "markdown",
   "metadata": {},
   "source": [
    "## 3. Test Dataset Widget"
   ]
  },
  {
   "cell_type": "code",
   "execution_count": 3,
   "metadata": {},
   "outputs": [
    {
     "name": "stdout",
     "output_type": "stream",
     "text": [
      "✅ DatasetWidget created successfully\n"
     ]
    },
    {
     "data": {
      "application/vnd.jupyter.widget-view+json": {
       "model_id": "dc3ecda43a9b42bf980580558389dc6b",
       "version_major": 2,
       "version_minor": 0
      },
      "text/plain": [
       "VBox(children=(HTML(value='<h2>📊 2. Dataset Manager</h2>'), Accordion(children=(VBox(children=(HTML(value='<h3…"
      ]
     },
     "metadata": {},
     "output_type": "display_data"
    }
   ],
   "source": [
    "# Test dataset widget creation and display\n",
    "try:\n",
    "    dataset = DatasetWidget()\n",
    "    print('✅ DatasetWidget created successfully')\n",
    "    \n",
    "    # Display the widget\n",
    "    dataset.display()\n",
    "    \n",
    "except Exception as e:\n",
    "    print(f'❌ DatasetWidget error: {e}')\n",
    "    import traceback\n",
    "    traceback.print_exc()"
   ]
  },
  {
   "cell_type": "markdown",
   "metadata": {},
   "source": [
    "## 4. Test File Upload Manager"
   ]
  },
  {
   "cell_type": "code",
   "execution_count": null,
   "metadata": {},
   "outputs": [],
   "source": [
    "# Test file upload manager functionality\n",
    "import tempfile\n",
    "import os\n",
    "\n",
    "try:\n",
    "    # Create test environment\n",
    "    test_dir = \"test_uploads\"\n",
    "    os.makedirs(test_dir, exist_ok=True)\n",
    "    \n",
    "    manager = FileUploadManager()\n",
    "    print('✅ FileUploadManager created')\n",
    "    \n",
    "    # Test validation\n",
    "    valid, msg = manager.validate_upload_destination(test_dir)\n",
    "    print(f'✅ Validation result: {valid} - {msg}')\n",
    "    \n",
    "    # Test stats\n",
    "    stats = manager.get_upload_stats(test_dir)\n",
    "    print(f'✅ Directory stats: {stats}')\n",
    "    \n",
    "    print('🎉 FileUploadManager tests passed!')\n",
    "    \n",
    "except Exception as e:\n",
    "    print(f'❌ FileUploadManager error: {e}')\n",
    "    import traceback\n",
    "    traceback.print_exc()"
   ]
  },
  {
   "cell_type": "markdown",
   "metadata": {},
   "source": [
    "## 5. Test Core Managers (Without Training Dependencies)"
   ]
  },
  {
   "cell_type": "code",
   "execution_count": null,
   "metadata": {},
   "outputs": [],
   "source": [
    "# Test basic manager functionality without training dependencies\n",
    "try:\n",
    "    from core.utilities_manager import UtilitiesManager\n",
    "    utilities_mgr = UtilitiesManager()\n",
    "    print('✅ UtilitiesManager created')\n",
    "    \n",
    "    # Test file listing (safe operation)\n",
    "    current_dir = os.getcwd()\n",
    "    files = utilities_mgr.get_files_in_directory(current_dir, 'py')\n",
    "    print(f'✅ Found {len(files)} Python files in current directory')\n",
    "    \n",
    "    # Test file size formatting\n",
    "    test_size = utilities_mgr.format_file_size(1024 * 1024)  # 1MB\n",
    "    print(f'✅ Size formatting test: {test_size}')\n",
    "    \n",
    "except Exception as e:\n",
    "    print(f'❌ Manager error: {e}')\n",
    "    import traceback\n",
    "    traceback.print_exc()"
   ]
  },
  {
   "cell_type": "markdown",
   "metadata": {},
   "source": [
    "## 6. Test Widget File Upload Flow (Simulation)"
   ]
  },
  {
   "cell_type": "code",
   "execution_count": null,
   "metadata": {},
   "outputs": [],
   "source": [
    "# Simulate the file upload flow without actual file uploads\n",
    "try:\n",
    "    print('Testing widget upload flow simulation...')\n",
    "    \n",
    "    # Create a minimal test dataset widget to check methods\n",
    "    widget = DatasetWidget()\n",
    "    \n",
    "    # Test folder creation\n",
    "    widget.folder_name.value = \"test_character\"\n",
    "    widget.folder_repeats.value = 5\n",
    "    \n",
    "    print('✅ Widget values set successfully')\n",
    "    print(f'   Folder name: {widget.folder_name.value}')\n",
    "    print(f'   Repeat count: {widget.folder_repeats.value}')\n",
    "    \n",
    "    # Test if upload buttons exist and are properly initialized\n",
    "    print(f'✅ Upload images button exists: {hasattr(widget, \"upload_images_button\")}')\n",
    "    print(f'✅ Upload ZIP button exists: {hasattr(widget, \"upload_zip_button\")}')\n",
    "    print(f'✅ File upload widget exists: {hasattr(widget, \"file_upload\")}')\n",
    "    \n",
    "    # Test if async methods exist\n",
    "    print(f'✅ Async upload method exists: {hasattr(widget, \"run_upload_images\")}')\n",
    "    print(f'✅ Async ZIP method exists: {hasattr(widget, \"run_upload_zip\")}')\n",
    "    \n",
    "    print('🎉 Widget upload flow structure validated!')\n",
    "    \n",
    "except Exception as e:\n",
    "    print(f'❌ Upload flow test error: {e}')\n",
    "    import traceback\n",
    "    traceback.print_exc()"
   ]
  },
  {
   "cell_type": "markdown",
   "metadata": {},
   "source": [
    "## 7. Summary Report"
   ]
  },
  {
   "cell_type": "code",
   "execution_count": null,
   "metadata": {},
   "outputs": [],
   "source": [
    "# Generate a summary report of all tests\n",
    "print(\"=\" * 60)\n",
    "print(\"WIDGET TEST SUMMARY REPORT\")\n",
    "print(\"=\" * 60)\n",
    "print(\"✅ All tests completed successfully if no errors shown above\")\n",
    "print(\"📋 Components tested:\")\n",
    "print(\"   - Widget imports\")\n",
    "print(\"   - UtilitiesWidget creation and display\")\n",
    "print(\"   - DatasetWidget creation and display\")\n",
    "print(\"   - FileUploadManager functionality\")\n",
    "print(\"   - Core manager operations\")\n",
    "print(\"   - Upload flow structure validation\")\n",
    "print(\"\")\n",
    "print(\"💡 This notebook can be used to test widget functionality\")\n",
    "print(\"   without requiring the full LoRA training environment.\")\n",
    "print(\"=\" * 60)"
   ]
  }
 ],
 "metadata": {
  "kernelspec": {
   "display_name": "Python 3 (ipykernel)",
   "language": "python",
   "name": "python3"
  },
  "language_info": {
   "codemirror_mode": {
    "name": "ipython",
    "version": 3
   },
   "file_extension": ".py",
   "mimetype": "text/x-python",
   "name": "python",
   "nbconvert_exporter": "python",
   "pygments_lexer": "ipython3",
   "version": "3.10.16"
  }
 },
 "nbformat": 4,
 "nbformat_minor": 4
}
